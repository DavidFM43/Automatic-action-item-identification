{
 "cells": [
  {
   "attachments": {},
   "cell_type": "markdown",
   "metadata": {},
   "source": [
    "# **Dive Octernship Submission Demo**"
   ]
  },
  {
   "attachments": {},
   "cell_type": "markdown",
   "metadata": {},
   "source": [
    "If you are running this in Colab or Kaggle, then you first clone the repo and install the required dependencies:"
   ]
  },
  {
   "cell_type": "code",
   "execution_count": null,
   "metadata": {},
   "outputs": [],
   "source": [
    "! git clone https://github.com/DiveHQ-Octernships/dive-ml-engineering-octernship-DavidFM43.git\n",
    "cd dive-ml-engineering-octernship-DavidFM43\n",
    "! pip install -r requirements"
   ]
  },
  {
   "attachments": {},
   "cell_type": "markdown",
   "metadata": {},
   "source": [
    "Import dependencies:"
   ]
  },
  {
   "cell_type": "code",
   "execution_count": null,
   "metadata": {},
   "outputs": [],
   "source": [
    "from dive.utils import download_yt_video\n",
    "from dive.gen_data import generate_transcription\n",
    "from dive.identify_ais import identify_ais\n"
   ]
  },
  {
   "attachments": {},
   "cell_type": "markdown",
   "metadata": {},
   "source": [
    "## **1. Data generation**"
   ]
  },
  {
   "cell_type": "code",
   "execution_count": 1,
   "metadata": {},
   "outputs": [],
   "source": [
    "yt_url = \"https://www.youtube.com/watch?v=lBVtvOpU80Q\"\n",
    "# download the youtube video\n",
    "audio_path = download_yt_video(yt_url)\n"
   ]
  },
  {
   "cell_type": "code",
   "execution_count": null,
   "metadata": {},
   "outputs": [],
   "source": [
    "# generate audio transcription with timestamps, speakers and text\n",
    "transcription_df = generate_transcription(audio_path)\n",
    "transcription_df.head()\n",
    "\n",
    "## the transcription can be easily exported to csv\n",
    "# transcription_df.to_csv(\"transcription.csv\", index=False)\n"
   ]
  },
  {
   "attachments": {},
   "cell_type": "markdown",
   "metadata": {},
   "source": [
    "## **2. Action Item Identification**"
   ]
  },
  {
   "cell_type": "code",
   "execution_count": null,
   "metadata": {},
   "outputs": [],
   "source": [
    "action_items = identify_ais(transcription_df)\n",
    "action_items\n"
   ]
  }
 ],
 "metadata": {
  "kernelspec": {
   "display_name": "dive-octernship",
   "language": "python",
   "name": "python3"
  },
  "language_info": {
   "codemirror_mode": {
    "name": "ipython",
    "version": 3
   },
   "file_extension": ".py",
   "mimetype": "text/x-python",
   "name": "python",
   "nbconvert_exporter": "python",
   "pygments_lexer": "ipython3",
   "version": "3.9.16"
  },
  "orig_nbformat": 4
 },
 "nbformat": 4,
 "nbformat_minor": 2
}
